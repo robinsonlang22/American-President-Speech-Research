{
 "cells": [
  {
   "cell_type": "markdown",
   "id": "a045b05c",
   "metadata": {},
   "source": [
    "### subjective/neutral of sentences analyzer\n",
    "1. import the json file consists of speechs include \"China\"\n",
    "2. use model to calculate the probability of subjective/neutral assign to sentences\n",
    "3. restore the result to the independent json files\n",
    "4. calculate the average, median and standard deviation of scores by president and year\n",
    "5. calculate the average scores by year\n",
    "6. visualize the result"
   ]
  },
  {
   "cell_type": "code",
   "execution_count": 47,
   "id": "f57354eb",
   "metadata": {},
   "outputs": [],
   "source": [
    "#pip install transformers\n",
    "#pip install torch torchvision torchaudio"
   ]
  },
  {
   "cell_type": "code",
   "execution_count": 3,
   "id": "2c8bdc69",
   "metadata": {},
   "outputs": [],
   "source": [
    "import torch"
   ]
  },
  {
   "cell_type": "code",
   "execution_count": 4,
   "id": "5a646b30",
   "metadata": {},
   "outputs": [],
   "source": [
    "from transformers import pipeline"
   ]
  },
  {
   "cell_type": "code",
   "execution_count": 5,
   "id": "1245c34e",
   "metadata": {},
   "outputs": [],
   "source": [
    "from transformers import AutoTokenizer, AutoModelForSequenceClassification"
   ]
  },
  {
   "cell_type": "code",
   "execution_count": 6,
   "id": "5da4af27",
   "metadata": {},
   "outputs": [],
   "source": [
    "import json\n",
    "import os\n",
    "import numpy as np\n",
    "import pandas as pd"
   ]
  },
  {
   "cell_type": "code",
   "execution_count": 7,
   "id": "3692a46d",
   "metadata": {},
   "outputs": [
    {
     "name": "stderr",
     "output_type": "stream",
     "text": [
      "c:\\anaconda\\lib\\site-packages\\transformers\\tokenization_utils_base.py:1601: FutureWarning: `clean_up_tokenization_spaces` was not set. It will be set to `True` by default. This behavior will be depracted in transformers v4.45, and will be then set to `False` by default. For more details check this issue: https://github.com/huggingface/transformers/issues/31884\n",
      "  warnings.warn(\n"
     ]
    }
   ],
   "source": [
    "tokenizer = AutoTokenizer.from_pretrained(\"cffl/bert-base-styleclassification-subjective-neutral\")"
   ]
  },
  {
   "cell_type": "code",
   "execution_count": 8,
   "id": "48b97076",
   "metadata": {},
   "outputs": [],
   "source": [
    "def process_sentences(json_file_path, max_length=512):\n",
    "    processed_sentences = []\n",
    "    \n",
    "    # read json file\n",
    "    with open(json_file_path, 'r') as file:\n",
    "        sentences_data = json.load(file)\n",
    "    \n",
    "    # iterate each sentence\n",
    "    for entry in sentences_data:\n",
    "        sentence = entry['sentence']\n",
    "        \n",
    "        # tokenize and truncate\n",
    "        tokens = tokenizer(sentence, truncation=True, max_length=512, return_tensors=\"pt\", padding=True)\n",
    "        \n",
    "        # convert to text\n",
    "        truncated_sentence = tokenizer.decode(tokens['input_ids'][0], skip_special_tokens=True)\n",
    "        \n",
    "        # save processed sentence\n",
    "        processed_sentences.append(truncated_sentence)\n",
    "    \n",
    "    return processed_sentences"
   ]
  },
  {
   "cell_type": "code",
   "execution_count": 9,
   "id": "c081ade6",
   "metadata": {},
   "outputs": [
    {
     "name": "stderr",
     "output_type": "stream",
     "text": [
      "c:\\anaconda\\lib\\site-packages\\transformers\\pipelines\\text_classification.py:104: UserWarning: `return_all_scores` is now deprecated,  if want a similar functionality use `top_k=None` instead of `return_all_scores=True` or `top_k=1` instead of `return_all_scores=False`.\n",
      "  warnings.warn(\n"
     ]
    }
   ],
   "source": [
    "classify = pipeline(\n",
    "    task=\"text-classification\",\n",
    "    model=\"cffl/bert-base-styleclassification-subjective-neutral\",\n",
    "    return_all_scores=True,\n",
    ")"
   ]
  },
  {
   "cell_type": "code",
   "execution_count": 60,
   "id": "c31af5bd",
   "metadata": {},
   "outputs": [
    {
     "data": {
      "text/plain": [
       "[[{'label': 'SUBJECTIVE', 'score': 0.9008364677429199},\n",
       "  {'label': 'NEUTRAL', 'score': 0.09916352480649948}]]"
      ]
     },
     "execution_count": 60,
     "metadata": {},
     "output_type": "execute_result"
    }
   ],
   "source": [
    "classify(input_text3)"
   ]
  },
  {
   "cell_type": "code",
   "execution_count": 10,
   "id": "242290fa",
   "metadata": {},
   "outputs": [],
   "source": [
    "with open('./speech_json/37_nixon_speech.json', 'r') as file:\n",
    "    nixon_speech = json.load(file)\n",
    "\n",
    "with open('./speech_json/38_ford_speech.json', 'r') as file:\n",
    "    ford_speech = json.load(file)\n",
    "\n",
    "with open('./speech_json/39_carter_speech.json', 'r') as file:\n",
    "    carter_speech = json.load(file)\n",
    "\n",
    "with open('./speech_json/40_reagan_speech.json', 'r') as file:\n",
    "    reagan_speech = json.load(file)\n",
    "\n",
    "with open('./speech_json/41_herbertbush_speech.json', 'r') as file:\n",
    "    herbertbush_speech = json.load(file)\n",
    "\n",
    "with open('./speech_json/42_clinton_speech.json', 'r') as file:\n",
    "    clinton_speech = json.load(file)\n",
    "\n",
    "with open('./speech_json/43_walkerbush_speech.json', 'r') as file:\n",
    "    walkerbush_speech = json.load(file)\n",
    "\n",
    "with open('./speech_json/44_obama_speech.json', 'r') as file:\n",
    "    obama_speech = json.load(file)\n",
    "\n",
    "with open('./speech_json/45_trump_speech.json', 'r') as file:\n",
    "    trump_speech = json.load(file)\n",
    "\n",
    "with open('./speech_json/46_biden_speech.json', 'r') as file:\n",
    "    biden_speech = json.load(file)\n",
    "\n",
    "with open('./speech_json/47_vicepresident_biden_speech.json', 'r') as file:\n",
    "    vicepresident_biden_speech = json.load(file)\n",
    "\n"
   ]
  },
  {
   "cell_type": "code",
   "execution_count": 11,
   "id": "9acfcaf9",
   "metadata": {},
   "outputs": [],
   "source": [
    "def calculate_scores(speech_file, output_file):\n",
    "    results = []\n",
    "\n",
    "    for entry in speech_file:\n",
    "        sentence = entry['sentence']\n",
    "        date = entry['date']\n",
    "        tokens = tokenizer(sentence, truncation=True, max_length=512, return_tensors=\"pt\", padding=True)\n",
    "        truncated_sentence = tokenizer.decode(tokens['input_ids'][0], skip_special_tokens=True)\n",
    "        result = classify(truncated_sentence)\n",
    "        subjective_score, neutral_score = result[0][0]['score'], result[0][1]['score']\n",
    "\n",
    "        # Collect sentences with their scores and dates\n",
    "        results.append({\n",
    "            \"date\": date,\n",
    "            \"subjective_score\": subjective_score,\n",
    "            \"neutral_score\": neutral_score,\n",
    "            \"sentence\": sentence\n",
    "        })\n",
    "\n",
    "    # Save results to a JSON file\n",
    "    with open(output_file, 'w') as outfile:\n",
    "        json.dump(results, outfile, indent=4)\n",
    "\n",
    "    return results"
   ]
  },
  {
   "cell_type": "code",
   "execution_count": 18,
   "id": "14938cf1",
   "metadata": {},
   "outputs": [],
   "source": [
    "# nixon_results = calculate_scores(nixon_speech, 'nixon_scores.json')\n",
    "# ford_results = calculate_scores(ford_speech, 'ford_scores.json')\n",
    "# carter_results = calculate_scores(carter_speech, 'carter_scores.json')\n",
    "# reagan_results = calculate_scores(reagan_speech, 'reagan_scores.json')\n",
    "# herbertbush_results = calculate_scores(herbertbush_speech, 'herbertbush_scores.json')\n",
    "# clinton_results = calculate_scores(clinton_speech, 'clinton_scores.json')\n",
    "# walkerbush_results = calculate_scores(walkerbush_speech, 'walkerbush_scores.json')\n",
    "# obama_results = calculate_scores(obama_speech, 'obama_scores.json')\n",
    "# trump_results = calculate_scores(trump_speech, 'trump_scores.json')\n",
    "# biden_results = calculate_scores(biden_speech, 'biden_scores.json')\n",
    "# vicepresident_biden_results = calculate_scores(vicepresident_biden_speech, 'vicepresident_biden_scores.json')\n"
   ]
  },
  {
   "cell_type": "code",
   "execution_count": 12,
   "id": "1f0924d8",
   "metadata": {},
   "outputs": [],
   "source": [
    "with open('./subjective_scores_json/nixon_scores.json', 'r') as file:\n",
    "    nixon_scores = json.load(file)\n",
    "\n",
    "with open('./subjective_scores_json/ford_scores.json', 'r') as file:\n",
    "    ford_scores = json.load(file)\n",
    "\n",
    "with open('./subjective_scores_json/carter_scores.json', 'r') as file:\n",
    "    carter_scores = json.load(file)\n",
    "\n",
    "with open('./subjective_scores_json/reagan_scores.json', 'r') as file:\n",
    "    reagan_scores = json.load(file)\n",
    "\n",
    "with open('./subjective_scores_json/herbertbush_scores.json', 'r') as file:\n",
    "    herbertbush_scores = json.load(file)\n",
    "\n",
    "with open('./subjective_scores_json/clinton_scores.json', 'r') as file:\n",
    "    clinton_scores = json.load(file)\n",
    "\n",
    "with open('./subjective_scores_json/walkerbush_scores.json', 'r') as file:\n",
    "    walkerbush_scores = json.load(file)\n",
    "\n",
    "with open('./subjective_scores_json/obama_scores.json', 'r') as file:\n",
    "    obama_scores = json.load(file)\n",
    "\n",
    "with open('./subjective_scores_json/trump_scores.json', 'r') as file:\n",
    "    trump_scores = json.load(file)\n",
    "\n",
    "with open('./subjective_scores_json/biden_scores.json', 'r') as file:\n",
    "    biden_scores = json.load(file)\n",
    "\n",
    "with open('./subjective_scores_json/vicepresident_biden_scores.json', 'r') as file:\n",
    "    vicepresident_biden_scores = json.load(file)\n"
   ]
  },
  {
   "cell_type": "code",
   "execution_count": 24,
   "id": "26347e8d",
   "metadata": {},
   "outputs": [],
   "source": [
    "def statistics_calculator(scores, presidentname):\n",
    "\n",
    "    subjective_scores = [score['subjective_score'] for score in scores]\n",
    "    neutral_scores = [score['neutral_score'] for score in scores if score['neutral_score'] < 0.9]\n",
    "    \n",
    "    if not subjective_scores:\n",
    "        return None, None, None\n",
    "    \n",
    "    average_subjective_score = round(np.mean(subjective_scores), 3)\n",
    "    median_subjective_score = round(np.median(subjective_scores), 3)\n",
    "    std_dev_subjective_score = round(np.std(subjective_scores), 3)\n",
    "    average_neutral_score = round(np.mean(neutral_scores), 3)\n",
    "    median_neutral_score = round(np.median(neutral_scores), 3)\n",
    "    std_dev_neutral_score = round(np.std(neutral_scores), 3) \n",
    "\n",
    "    print(f\"president_name: {presidentname}\")\n",
    "    print(f\"average_subjective_score: {average_subjective_score:.3f}\")\n",
    "    print(f\"median_subjective_score: {median_subjective_score:.3f}\")\n",
    "    print(f\"std_dev_subjective_score: {std_dev_subjective_score:.3f}\")\n",
    "    print(f\"average_neutral_score: {average_neutral_score:.3f}\")\n",
    "    print(f\"median_neutral_score: {median_neutral_score:.3f}\")\n",
    "    print(f\"std_dev_neutral_score: {std_dev_neutral_score:.3f}\")\n",
    "\n",
    "    results = {\n",
    "        \"president_name\": presidentname,\n",
    "        \"average_subjective_score\": average_subjective_score,\n",
    "        \"median_subjective_score\": median_subjective_score,\n",
    "        \"std_dev_subjective_score\": std_dev_subjective_score,\n",
    "        \"average_neutral_score\": average_neutral_score,\n",
    "        \"median_neutral_score\": median_neutral_score,\n",
    "        \"std_dev_neutral_score\": std_dev_neutral_score\n",
    "    }\n",
    "\n",
    "    # Save results to a JSON file\n",
    "    with open('scores_statistics.json', 'a') as outfile:\n",
    "        json.dump(results, outfile, indent=4)\n",
    "    \n",
    "    return average_subjective_score, median_subjective_score, std_dev_subjective_score, average_neutral_score, median_neutral_score, std_dev_neutral_score\n",
    "\n"
   ]
  },
  {
   "cell_type": "code",
   "execution_count": 25,
   "id": "3e7076ac",
   "metadata": {},
   "outputs": [
    {
     "name": "stdout",
     "output_type": "stream",
     "text": [
      "president_name: nixon\n",
      "average_subjective_score: 0.638\n",
      "median_subjective_score: 0.655\n",
      "std_dev_subjective_score: 0.200\n",
      "average_neutral_score: 0.354\n",
      "median_neutral_score: 0.343\n",
      "std_dev_neutral_score: 0.191\n",
      "president_name: ford\n",
      "average_subjective_score: 0.642\n",
      "median_subjective_score: 0.688\n",
      "std_dev_subjective_score: 0.235\n",
      "average_neutral_score: 0.353\n",
      "median_neutral_score: 0.304\n",
      "std_dev_neutral_score: 0.230\n",
      "president_name: carter\n",
      "average_subjective_score: 0.614\n",
      "median_subjective_score: 0.668\n",
      "std_dev_subjective_score: 0.250\n",
      "average_neutral_score: 0.368\n",
      "median_neutral_score: 0.323\n",
      "std_dev_neutral_score: 0.232\n",
      "president_name: reagan\n",
      "average_subjective_score: 0.615\n",
      "median_subjective_score: 0.653\n",
      "std_dev_subjective_score: 0.265\n",
      "average_neutral_score: 0.361\n",
      "median_neutral_score: 0.327\n",
      "std_dev_neutral_score: 0.243\n",
      "president_name: herbertbush\n",
      "average_subjective_score: 0.580\n",
      "median_subjective_score: 0.602\n",
      "std_dev_subjective_score: 0.236\n",
      "average_neutral_score: 0.408\n",
      "median_neutral_score: 0.385\n",
      "std_dev_neutral_score: 0.224\n",
      "president_name: clinton\n",
      "average_subjective_score: 0.621\n",
      "median_subjective_score: 0.642\n",
      "std_dev_subjective_score: 0.209\n",
      "average_neutral_score: 0.372\n",
      "median_neutral_score: 0.354\n",
      "std_dev_neutral_score: 0.201\n",
      "president_name: walkerbush\n",
      "average_subjective_score: 0.614\n",
      "median_subjective_score: 0.632\n",
      "std_dev_subjective_score: 0.205\n",
      "average_neutral_score: 0.380\n",
      "median_neutral_score: 0.365\n",
      "std_dev_neutral_score: 0.198\n",
      "president_name: obama\n",
      "average_subjective_score: 0.634\n",
      "median_subjective_score: 0.660\n",
      "std_dev_subjective_score: 0.206\n",
      "average_neutral_score: 0.358\n",
      "median_neutral_score: 0.337\n",
      "std_dev_neutral_score: 0.196\n",
      "president_name: trump\n",
      "average_subjective_score: 0.694\n",
      "median_subjective_score: 0.724\n",
      "std_dev_subjective_score: 0.208\n",
      "average_neutral_score: 0.301\n",
      "median_neutral_score: 0.274\n",
      "std_dev_neutral_score: 0.202\n",
      "president_name: biden\n",
      "average_subjective_score: 0.609\n",
      "median_subjective_score: 0.639\n",
      "std_dev_subjective_score: 0.218\n",
      "average_neutral_score: 0.382\n",
      "median_neutral_score: 0.357\n",
      "std_dev_neutral_score: 0.208\n",
      "president_name: vicepresident_biden\n",
      "average_subjective_score: 0.665\n",
      "median_subjective_score: 0.707\n",
      "std_dev_subjective_score: 0.214\n",
      "average_neutral_score: 0.326\n",
      "median_neutral_score: 0.290\n",
      "std_dev_neutral_score: 0.202\n"
     ]
    }
   ],
   "source": [
    "# nixon_statistics = statistics_calculator(nixon_scores, \"nixon\")\n",
    "# ford_statistics = statistics_calculator(ford_scores, \"ford\")\n",
    "# carter_statistics = statistics_calculator(carter_scores, \"carter\")\n",
    "# reagan_statistics = statistics_calculator(reagan_scores, \"reagan\")\n",
    "# herbertbush_statistics = statistics_calculator(herbertbush_scores, \"herbertbush\")\n",
    "# clinton_statistics = statistics_calculator(clinton_scores, \"clinton\")\n",
    "# walkerbush_statistics = statistics_calculator(walkerbush_scores, \"walkerbush\")\n",
    "# obama_statistics = statistics_calculator(obama_scores, \"obama\")\n",
    "# trump_statistics = statistics_calculator(trump_scores, \"trump\")\n",
    "# biden_statistics = statistics_calculator(biden_scores, \"biden\")\n",
    "# vicepresident_biden_statistics = statistics_calculator(vicepresident_biden_scores, \"vicepresident_biden\")\n"
   ]
  },
  {
   "cell_type": "code",
   "execution_count": 47,
   "id": "c2fc3998",
   "metadata": {},
   "outputs": [],
   "source": [
    "import matplotlib.pyplot as plt\n",
    "\n",
    "def visualize_scores(scores_statistics):\n",
    "    presidents = [entry['president_name'] for entry in scores_statistics]\n",
    "    average_subjective_scores = [entry['average_subjective_score'] for entry in scores_statistics]\n",
    "    median_subjective_scores = [entry['median_subjective_score'] for entry in scores_statistics]\n",
    "    average_neutral_scores = [entry['average_neutral_score'] for entry in scores_statistics]\n",
    "    median_neutral_scores = [entry['median_neutral_score'] for entry in scores_statistics]\n",
    "\n",
    "    plt.figure(figsize=(14, 7))\n",
    "\n",
    "    # Plot average and median subjective scores\n",
    "    plt.subplot(1, 2, 1)\n",
    "    plt.plot(presidents, average_subjective_scores, marker='o', label='Average Subjective Score')\n",
    "    plt.plot(presidents, median_subjective_scores, marker='o', label='Median Subjective Score')\n",
    "    plt.xlabel('President')\n",
    "    plt.ylabel('Score')\n",
    "    plt.title('Subjective Scores')\n",
    "    plt.legend()\n",
    "    plt.xticks(rotation=45)\n",
    "\n",
    "    # Plot average and median neutral scores\n",
    "    plt.subplot(1, 2, 2)\n",
    "    plt.plot(presidents, average_neutral_scores, marker='o', label='Average Neutral Score')\n",
    "    plt.plot(presidents, median_neutral_scores, marker='o', label='Median Neutral Score')\n",
    "    plt.xlabel('President')\n",
    "    plt.ylabel('Score')\n",
    "    plt.title('Neutral Scores')\n",
    "    plt.legend()\n",
    "    plt.xticks(rotation=45)\n",
    "\n",
    "    plt.tight_layout()\n",
    "    plt.show()"
   ]
  },
  {
   "cell_type": "code",
   "execution_count": 48,
   "id": "0232a503",
   "metadata": {},
   "outputs": [],
   "source": [
    "with open('./scores_statistics.json', 'r') as file:\n",
    "    scores_statistics = json.load(file)"
   ]
  },
  {
   "cell_type": "code",
   "execution_count": 49,
   "id": "4cb9c0bb",
   "metadata": {},
   "outputs": [
    {
     "data": {
      "image/png": "[encoded data removed]",
      "text/plain": [
       "<Figure size 1400x700 with 2 Axes>"
      ]
     },
     "metadata": {},
     "output_type": "display_data"
    }
   ],
   "source": [
    "visualize_scores(scores_statistics)"
   ]
  },
  {
   "cell_type": "code",
   "execution_count": 28,
   "id": "2f794b79",
   "metadata": {},
   "outputs": [],
   "source": [
    "def calculate_average_scores(speech_file):\n",
    "    scores = []\n",
    "    total_subjective_score = 0\n",
    "    total_neutral_score = 0\n",
    "    count = 0\n",
    "    subjective_sentences = []\n",
    "    neutral_sentences = []\n",
    "\n",
    "    for entry in speech_file:\n",
    "        sentence = entry['sentence']\n",
    "        tokens = tokenizer(sentence, truncation=True, max_length=512, return_tensors=\"pt\", padding=True)\n",
    "        truncated_sentence = tokenizer.decode(tokens['input_ids'][0], skip_special_tokens=True)\n",
    "        result = classify(truncated_sentence)\n",
    "        subjective_score, neutral_score = result[0][0]['score'], result[0][1]['score']\n",
    "        total_subjective_score += subjective_score\n",
    "        total_neutral_score += neutral_score\n",
    "        count += 1\n",
    "\n",
    "        # Collect sentences with their scores\n",
    "        subjective_sentences.append((sentence, subjective_score))\n",
    "        neutral_sentences.append((sentence, neutral_score))\n",
    "\n",
    "    average_subjective_score = total_subjective_score / count\n",
    "    average_neutral_score = total_neutral_score / count\n",
    "\n",
    "    print(f\"Average Subjective Score: {average_subjective_score}\")\n",
    "    print(f\"Average Neutral Score: {average_neutral_score}\")\n",
    "    scores.append(average_subjective_score)\n",
    "    scores.append(average_neutral_score)\n",
    "\n",
    "    # Sort and print top 10 subjective and neutral sentences\n",
    "    subjective_sentences.sort(key=lambda x: x[1], reverse=True)\n",
    "    neutral_sentences.sort(key=lambda x: x[1], reverse=True)\n",
    "\n",
    "    print(\"\\nTop 10 Subjective Sentences:\")\n",
    "    for sentence, score in subjective_sentences[:10]:\n",
    "        print(f\"{score:.4f}: {sentence}\")\n",
    "\n",
    "    print(\"\\nTop 10 Neutral Sentences:\")\n",
    "    for sentence, score in neutral_sentences[:10]:\n",
    "        print(f\"{score:.4f}: {sentence}\")\n",
    "\n",
    "    return scores\n"
   ]
  },
  {
   "cell_type": "code",
   "execution_count": 45,
   "id": "4aa7f3f4",
   "metadata": {},
   "outputs": [
    {
     "name": "stdout",
     "output_type": "stream",
     "text": [
      "Average Subjective Score: 0.6384612598364953\n",
      "Average Neutral Score: 0.36153873993067415\n",
      "\n",
      "Top 10 Subjective Sentences:\n",
      "0.9960: Regrettably, only three holders of such passports were permitted entry to China\n",
      "0.9945: \"The meeting between the leaders of China and the United States is to seek the normalization of relations between the two countries and also to exchange views on questions of concern to the two sides.\" This announcement could have the most profound significance for future generations\n",
      "0.9919: And the Prime Minister naturally said one city must be Shanghai, the biggest city in China\n",
      "0.9900: Some rather naive observers have assumed that because I was going to Mainland China, that the differences between Mainland China and its 800 million people and its Government and that of the United States--that those differences would evaporate\n",
      "0.9898: That visit does not mean that the differences between the Governments of the People's Republic of China and that of the United States are going to evaporate, because they are very great and they are very deep\n",
      "0.9880: And the Senator, with that wonderful sense of humor of his, said, \"Well, you know, Dick, I am sure Peking, China, is a great place, but you have really never seen anything until you have seen Pekin, Illinois.\" After your very warm welcome today-and we give our distinguished chaplain the credit for the fact that the rain just stopped--I can say that I am very happy that while I was unable to visit Pekin, Illinois, while Senator Dirksen lived, that finally I have been able to come here\n",
      "0.9836: I am sure that the proud citizens of this province would say that Peking is the head of China, but Hangchow is the heart of China\n",
      "0.9792: We shall also continue this year to build our promising new relationship with the People's Republic of China\n",
      "0.9767: We have seen the matchless wonders of ancient China\n",
      "0.9763: Prime Minister, Chairman Chang, and our Chinese and American [fiends: This magnificent banquet marks the end of our stay in the People's Republic of China\n",
      "\n",
      "Top 10 Neutral Sentences:\n",
      "0.9827: Nixon during their visit to the People's Republic of China\n",
      "0.9690: table tennis team competing in the world championships received an invitation from the Chinese team to visit mainland China\n",
      "0.9510: President Nixon met with Chairman Mao Tse-tung of the Communist Party of China on February 21\n",
      "0.9428: The President described his China trip and discussed his upcoming trip to the Soviet Union\n",
      "0.9375: Kissinger raised the subject with Chou En-lai on both of his visits to the People's Republic of China\n",
      "0.9340: goods for export to mainland China\n",
      "0.9127: PRESIDENT Richard Nixon of the United States of America visited the People's Republic of China at the invitation of Premier Chou En-lai of the People's Republic of China from February 21 to February 28, 1972\n",
      "0.9120: \n",
      "--During 1970, the passports of 270 Americans were validated for travel to the People's Republic of China\n",
      "0.9026: Similar exchanges are occurring with the People's Republic of China\n",
      "0.9005: And in December, the Shenyang Acrobatic Troupe performed in four major American cities in a visit facilitated by the National Committee on U.S.-China Relations\n"
     ]
    }
   ],
   "source": [
    "nixon_scores = calculate_average_scores(nixon_scores)"
   ]
  },
  {
   "cell_type": "code",
   "execution_count": 64,
   "id": "fe65c53f",
   "metadata": {},
   "outputs": [
    {
     "name": "stdout",
     "output_type": "stream",
     "text": [
      "Average Subjective Score: 0.6419007938230437\n",
      "Average Neutral Score: 0.35809920947446205\n",
      "\n",
      "Top 10 Subjective Sentences:\n",
      "0.9938: China is a major country and a great country\n",
      "0.9839: The People's Republic of China announced today the passing away of Chairman Mao Tse-tung\n",
      "0.9787: Our agricultural abundance helped open the door to 800 million people on the mainland of China\n",
      "0.9771: Well, in 1972 when we reopened the doors between China and the United States, a Shanghai communiqué was issued which called for the gradual movement of better relations, broader relations, deeper relations, aiming at some point to normalization of relations\n",
      "0.9768: The process of normalizing relations with the People's Republic of China, in which Ambassador Gates will play a very vital role, is now well underway\n",
      "0.9736: George Bush was our representative in the People's Republic of China and in that capacity did extremely well\n",
      "0.9707: This visit gives us all a great farewell boost on our way to the People's Republic of China, Indonesia, and the Philippines\n",
      "0.9697: In 1972, I was fortunate to visit the People's Republic of China\n",
      "0.9648: ON THIS very beautiful day, the day before we leave for the People's Republic of China, it is a special privilege for me to meet the basketball team that is representing the People's Republic of China\n",
      "0.9600: In the Shanghai communique, our two Governments recognized that there are essential differences between China and the United States in their social systems and foreign policies\n",
      "\n",
      "Top 10 Neutral Sentences:\n",
      "0.9286: They discussed their respective meetings with General Secretary Brezhnev, and Secretary Kissinger reported on his discussions with leaders of the People's Republic of China\n",
      "0.9006: The Prime Minister gave the President an account of his recent visits to the People's Republic of China and Japan\n",
      "0.8858: Nixon was invited by the People's Republic of China\n",
      "0.8856: He was invited by the Government of the People's Republic of China\n",
      "0.8826: He has been to China on a number of occasions\n",
      "0.8767: Finally, Secretary Kissinger's mission maintained the momentum in China with the People's Republic of China\n",
      "0.8713: The United States offers its condolences to the Government and people of the People's Republic of China.\n",
      "0.8707: NOTE.: Chiang Kai-shek was President of the Republic of China from 1948 until his death in Taipei, Taiwan, on April 5, 1975\n",
      "0.8259: The Soviet Union and the People's Republic of China have supplied and are supplying military assistance to South Vietnam and Cambodia\n",
      "0.8249: The relationship between the United States and the People's Republic of China, which was reopened several years ago, is predicated on the Shanghai communique\n"
     ]
    }
   ],
   "source": [
    "ford_scores = calculate_average_scores(ford_speech)"
   ]
  },
  {
   "cell_type": "code",
   "execution_count": 74,
   "id": "4ca54ceb",
   "metadata": {},
   "outputs": [
    {
     "name": "stdout",
     "output_type": "stream",
     "text": [
      "Average Subjective Score: 0.6137709823428451\n",
      "Average Neutral Score: 0.38622901762308864\n",
      "\n",
      "Top 10 Subjective Sentences:\n",
      "0.9970: We had a good and useful trip to China\n",
      "0.9956: The Congress has acted wisely in passing legislation amending the Foreign Assistance Act to authorize the Overseas Private Investment Corporation (OPIC) to operate in the People's Republic of China\n",
      "0.9940: And now a multibillion dollar expansion program in their own trade and also a multibillion dollar expansion program in investments, commercial investments in China, could very easily be financed through normal or private business loans because of China's very excellent credit rating\n",
      "0.9935: The agreement resumes scheduled air service between our country and mainland China after a gap of 31 years\n",
      "0.9907: There's a fairly good crop of grain in China and some other areas of the world\n",
      "0.9900: I know there's a great feeling of gratitude in China and the United States for this new, wonderful relationship\n",
      "0.9878: The normalization of relations with that great country has already meant that China is the number one buyer of American cotton\n",
      "0.9863: The Energy Commission of the Conference on International Economic Cooperation does not include countries such as the Soviet Union and China, two great producers and consumers of energy\n",
      "0.9848: Dong Huamin Director Bureau of Foreign Affairs Ministry of Communications Beijing, People's Republic of China Dear Mr\n",
      "0.9843: Since Nixon went to China, there has been, first of all, a brief flurry of trade with China--nothing earthshaking, but at least some--and there's been a steady decrease since then\n",
      "\n",
      "Top 10 Neutral Sentences:\n",
      "0.9829: Philipp Rosenthal, Member of Parliament and Chairman of Rosenthal China\n",
      "0.9792: CHAI ZEMIN Ambassador of the People's Republic of China  EDITORIAL\n",
      "0.9766: RICHARD HSU, president of the China Institute in America in New York City, N.Y.; \n",
      "THOMAS H\n",
      "0.9742: Brzezinski did the same thing after his visit to China\n",
      "0.9700: He was program engineer (1950-1955) and then program manager (1955-1957) for the Sidewinder missile at the Naval Ordnance Test Station, China Lake, Calif\n",
      "0.9669: He was Director of the Office of the People's Republic of China and Mongolia Affairs at the State Department from 1976 to 1979.\n",
      "0.9511: In 1945 and 1946, he worked as a liaison officer at Tientsin, China, for the United Nations Relief and Rehabilitation Administration\n",
      "0.9484: He is a past chairman of the Japan-California Association, a member of the National Council for United States-China Trade, a member of the Business Council and the Business Roundtable, and a trustee of the Harvard Business School.\n",
      "0.9477: Mansfield was a Presidential representative in China in 1944\n",
      "0.9456: Gleysteen was born May 8, 1926, in Peking, China, of American parents\n"
     ]
    }
   ],
   "source": [
    "carter_scores = calculate_average_scores(carter_speech)"
   ]
  },
  {
   "cell_type": "code",
   "execution_count": 65,
   "id": "8d9a9ac6",
   "metadata": {},
   "outputs": [
    {
     "name": "stdout",
     "output_type": "stream",
     "text": [
      "Average Subjective Score: 0.6146424750768584\n",
      "Average Neutral Score: 0.38535752293097725\n",
      "\n",
      "Top 10 Subjective Sentences:\n",
      "0.9976: This excellent program brings young people from Canada, China, France, Germany, Italy, Japan, Mexico, and the United Kingdom to EPCOT\n",
      "0.9963: China is now embarked on an exciting experiment designed to modernize the economy and quadruple the value of its national economic output by the year 2000\n",
      "0.9928: Both the United States and China have stood together in condemning the evil and unlawful invasion of Afghanistan\n",
      "0.9912: In FY-1983, nearly 10,000 immigrant visas were issued by our Foreign Service posts in China\n",
      "0.9911: Reform in China is now widespread and dramatic\n",
      "0.9910: In 1981 a bright, young American student, John Zeidman, came here to study China and to seek new friends\n",
      "0.9892: Well, America and China are both great nations\n",
      "0.9880: Horowitz was named consul general at the American consulate in Sydney, Australia, in 1981, and in 1984 to present, deputy chief of mission at our Embassy in Beijing, China\n",
      "0.9877: The Republic of Korea and the PRC, that's China, currently have no diplomatic relations\n",
      "0.9874: Singapore, Taiwan, and South Korea, India, Botswana, and China—these are among the current and emerging success stories because they have the courage to give economic incentives a chance\n",
      "\n",
      "Top 10 Neutral Sentences:\n",
      "0.9715: During this tenure he received the Department's Christian Herter award for his reporting and analysis of events in China\n",
      "0.9715: In Fiscal Year 1986, China posts issued 14,051 immigrant visas (13,356 in Fiscal Year 1985) and 43,858 non-immigrant visas (44,254 in Fiscal Year 1985)\n",
      "0.9690: He was reporter and editor of the International News Service in Atlanta, Ga., in 1941-1942, and was with United Press as foreign correspondent in Japan, China, Korea, and Southeast Asia (1947-1951), and Tokyo bureau chief and Asia news editor in Tokyo (1951-1957)\n",
      "0.9686: Lawson has also served with the Department of State, where he was Deputy Director, Office of Special Bilateral Affairs, Bureau of Economic and Business Affairs, 1975-1977; and between 1969 and 1972, served as junior staff assistant, senior staff assistant, acting special assistant to the Assistant Secretary of State for East Asia and the Pacific, and desk officer for the China desk\n",
      "0.9668: He was born in Hong Kong, China, on August 8, 1927.\n",
      "0.9654: In the Department he was Deputy Director (1966-1967) and Director (1967-1971) of the Office of Republic of China Affairs\n",
      "0.9639: Jeong has served on the board of directors of the Chinatown-North Beach English Language Center (an agency of the Economic Opportunity Council of San Francisco)\n",
      "0.9615: He was born April 22, 1935, in Shanghai, China, and now resides in Los Angeles\n",
      "0.9576: Plowden served in World War II in the China-Burma Theatre, attaining the rank of lieutenant colonel, and retired from the reserve as a full colonel in 1965\n",
      "0.9566: Some of those pilots landed in China\n"
     ]
    }
   ],
   "source": [
    "reagan_scores = calculate_average_scores(reagan_speech)"
   ]
  },
  {
   "cell_type": "code",
   "execution_count": 66,
   "id": "ffefd57f",
   "metadata": {},
   "outputs": [
    {
     "name": "stdout",
     "output_type": "stream",
     "text": [
      "Average Subjective Score: 0.5798382258281269\n",
      "Average Neutral Score: 0.42016177417269385\n",
      "\n",
      "Top 10 Subjective Sentences:\n",
      "0.9963: Charles Pei Wang, President of the China Institute in America, an outstanding new addition\n",
      "0.9925: And China does have the proper policy\n",
      "0.9915: And for this we must credit the reforms China embarked upon 10 years ago under Chairman Deng Xiaoping's farsighted leadership\n",
      "0.9904: In 1989 U.S.-China trade amounted to $18 billion, and China was our 10th largest trading partner worldwide\n",
      "0.9794: MFN is based on emigration, and emigration has continued from China at respectable levels\n",
      "0.9764: Maintaining flexibility in administering our productive student and scholar exchange program with China is important\n",
      "0.9749: We will keep them under review for future adjustments to respond to further positive developments in China\n",
      "0.9733: But we've passed the day on the U.S.-China relationship where anyone talks about \"playing a card.\" That was a term that was highly offensive to the Chinese, and properly so\n",
      "0.9719: Well, his views on China certainly are complete\n",
      "0.9706: Let me welcome also representatives from a group representing a group of brave Americans, the families of those still missing in Indo-China\n",
      "\n",
      "Top 10 Neutral Sentences:\n",
      "0.9833: Visit to China Q\n",
      "0.9805: Lawson has also served as director of the master of science in foreign service program, director of the program for China studies, and professorial lecturer in the school of foreign service at Georgetown University, 1977 - 1980; and Deputy Director of the Office for Special Bilateral Affairs at the Department of State, 1975 - 1977\n",
      "0.9586: Student Demonstrations in China Q\n",
      "0.9578: Ambassador Lilley has served as Ambassador to the People's Republic of China, 1989 - 1991\n",
      "0.9574: He was Deputy Assistant Secretary of Commerce for East Asia and the Pacific, 1982 - 1984; Deputy Assistant Secretary of Commerce for East-West Trade, 1981 - 1982; and director of the China advisory group, Government Research Corp./National Journal, 1980 - 1981\n",
      "0.9565: The Dalian center has become a model for other management centers in China\n",
      "0.9531: Soviet-China Relations Q\n",
      "0.9497: The President and Foreign Minister discussed the situation in China\n",
      "0.9472: He has served as president of the U.S.-China Business Council since 1973\n",
      "0.9447: Former President Nixon's Trip to China Q\n"
     ]
    }
   ],
   "source": [
    "herbertbush_scores = calculate_average_scores(herbertbush_speech)"
   ]
  },
  {
   "cell_type": "code",
   "execution_count": 80,
   "id": "0b158b73",
   "metadata": {},
   "outputs": [
    {
     "name": "stdout",
     "output_type": "stream",
     "text": [
      "Average Subjective Score: 0.6210600175086957\n",
      "Average Neutral Score: 0.3789399818752506\n",
      "\n",
      "Top 10 Subjective Sentences:\n",
      "0.9962: Fifteen other airplanes followed on a daring one-way trip to Tokyo and on to China\n",
      "0.9953: Under the wise, compassionate leadership of Eleanor Roosevelt, half a century ago 18 delegates from China to Lebanon, Chile to Ukraine forged the first international agreement on the rights of humankind\n",
      "0.9949: The Administration notes that large portions and important portions of the President's interview with Chinese news organizations were carried and prominently featured in broadcast and reporting in China and that's good\n",
      "0.9948: One, the United States Trade Representative's Office negotiated this tremendous agreement with China\n",
      "0.9947: Many courageous proponents of change in China agree\n",
      "0.9945: The first is the best Secretary of Education this country ever had, Dick Riley, who is in China tonight\n",
      "0.9939: Third -- and a shameless attempt to get on ESPN's Sports Center one more time before we finish covering the World Cup Soccer -- the President and President Jiang of China exchanged messages of congratulations after the final -- Saturday's final\n",
      "0.9939: Number three, resolving the outstanding special China protocol issues\n",
      "0.9938: I started the day this morning with physical therapy and a talk with the Vice President in China, which was also good therapy\n",
      "0.9932: I had quite a magnificent trip to China\n",
      "\n",
      "Top 10 Neutral Sentences:\n",
      "0.9927: There was a discussion of China\n",
      "0.9854: Q: And on China, a follow-up\n",
      "0.9838: Q: A question on China\n",
      "0.9837: China -- number 12\n",
      "0.9802: for his trip to China\n",
      "0.9772: goods in China\n",
      "0.9749: China's Foreign Minister was the second leader to do so\n",
      "0.9721: They also discussed China\n",
      "0.9710: In addition they talked about China\n",
      "0.9697: They had a broad-ranging discussion on foreign policy topics, including China, Russia, Indonesia, and Malaysia\n"
     ]
    }
   ],
   "source": [
    "clinton_scores = calculate_average_scores(clinton_speech)"
   ]
  },
  {
   "cell_type": "code",
   "execution_count": 81,
   "id": "0756864c",
   "metadata": {},
   "outputs": [
    {
     "name": "stdout",
     "output_type": "stream",
     "text": [
      "Average Subjective Score: 0.6137421405494247\n",
      "Average Neutral Score: 0.38625786029825787\n",
      "\n",
      "Top 10 Subjective Sentences:\n",
      "0.9947: China has undergone an amazing transformation in its economy\n",
      "0.9939: And so China is a fascinating country that is significant in its size\n",
      "0.9935: China is a great country\n",
      "0.9935: China is a great country\n",
      "0.9932: Australia, fortunately, has got a surplus with China\n",
      "0.9932: And finally, I want to pay tribute to Sandy Randt, who has done a fabulous job as our Ambassador to China\n",
      "0.9916: We helped bring China and Taiwan into the World Trade Organization, and that's good\n",
      "0.9907: And so my job is to say to China, \"Open up your markets.\" My job is to say to Europe, \"Open up your markets.\" And we're making progress\n",
      "0.9907: That's why China is very much involved in the process now, which is helpful\n",
      "0.9903: China is a great emerging nation\n",
      "\n",
      "Top 10 Neutral Sentences:\n",
      "0.9754: Awards include the Fielding Internship Award and the Luce Scholarship to the People's Republic of China\n",
      "0.9686: Randt served as a Partner Resident in the Hong Kong office with Heller, Ehrman, White & McAuliffe from 1985 to 1987 and then became the Partner resident in Hong Kong and Head of the China Practice Group for Gibson, Dunn & Crutcher until 1993\n",
      "0.9678: China says that\n",
      "0.9670: Earlier in his career, he served as Deputy Director of the China Desk for Economics at the Bureau of East Asian and Pacific Affairs\n",
      "0.9618: He has taught government and history for six years in public schools; he also taught for one year at the China Foreign Affairs University in Beijing\n",
      "0.9596: The Secretary also said, in answer to a question at the end, from the AP correspondent, whether China has agreed to further meetings\n",
      "0.9525: Embassy in Beijing, China\n",
      "0.9497: Randt, Jr., United States Ambassador to the People's Republic of China Mr\n",
      "0.9497: Randt, Jr., United States Ambassador to the People's Republic of China Mr\n",
      "0.9470: He also spoke in China about this\n"
     ]
    }
   ],
   "source": [
    "walkerbush_scores = calculate_average_scores(walkerbush_speech)"
   ]
  },
  {
   "cell_type": "code",
   "execution_count": 82,
   "id": "5c788bb0",
   "metadata": {},
   "outputs": [
    {
     "name": "stdout",
     "output_type": "stream",
     "text": [
      "Average Subjective Score: 0.634195702759308\n",
      "Average Neutral Score: 0.3658042977734973\n",
      "\n",
      "Top 10 Subjective Sentences:\n",
      "0.9962: The former Governor of Washington State, current Commerce Secretary, soon-to-be Ambassador to China--that's all one person--Gary Locke is here with his beautiful wife\n",
      "0.9960: And as President Obama rightly said just now, sound China-U.S\n",
      "0.9959: China of course now is the second-largest economy in the world\n",
      "0.9953: China appropriately called back a shipment of arms to Zimbabwe, and the U.S\n",
      "0.9952: Unfortunately, Russia and China vetoed a resolution that would have passed through the Security Council\n",
      "0.9942: Christie Vilsack\n",
      " His Excellency Ding Xuexiang, Permanent Deputy Director, General Office of Central Committee of the Communist Party of China\n",
      " Mr\n",
      "0.9939: The new visa extension that begins today will bring more Chinese tourists to the United States and more American tourists to see the magnificent sights of China\n",
      "0.9936: It's the spirit that brought a young woman from the People's Republic of China and inspired her to enlist in the United States Air Force, where she excels as a material management specialist\n",
      "0.9935: China and the United States are both great nations\n",
      "0.9927: As President Obama rightly put it just now, though there are disagreements between China and the United States on the issue of human rights, China is willing to engage in dialogue and exchanges with the United States on the basis of mutual respect and the principle of noninterference in each other's internal affairs\n",
      "\n",
      "Top 10 Neutral Sentences:\n",
      "0.9919: media outlets in China\n",
      "0.9891: Rui Chenggang of China Central Television\n",
      "0.9855:  China Daily\n",
      "0.9817: Roche is an entrepreneur and investor working in China, Japan, and the US\n",
      "0.9790: Chen said he wanted to stay in China\n",
      "0.9776:  Jeffrey Prescott is Deputy Director of the China Law Center, Senior Research Scholar and Lecturer in Law at Yale Law School\n",
      "0.9769:  Shanghai is a city that witnessed the progress of the diplomatic relations between China and the United States over the past three decades\n",
      "0.9705: Boesch is a biological oceanographer who has conducted research on coastal ecosystems along the Atlantic Coast, the Gulf of Mexico, Australia and the East China Sea\n",
      "0.9674: During a decade living and working in China, he founded and led the Yale Center's Beijing office and was a visiting scholar at Peking University\n",
      "0.9660: Nealer was a Fulbright professor in the People's Republic of China\n"
     ]
    }
   ],
   "source": [
    "obama_scores = calculate_average_scores(obama_speech)"
   ]
  },
  {
   "cell_type": "code",
   "execution_count": 79,
   "id": "107195b1",
   "metadata": {},
   "outputs": [
    {
     "name": "stdout",
     "output_type": "stream",
     "text": [
      "Average Subjective Score: 0.693941963181561\n",
      "Average Neutral Score: 0.3060580367922221\n",
      "\n",
      "Top 10 Subjective Sentences:\n",
      "0.9968: That's going to be an easy one.\n",
      " Since China joined -- and it's another beauty -- the World Trade Organization in 2001, the United States has lost many more than 60,000 factories\n",
      "0.9965: As he rightly pointed before leaving China, it was a week that changed the world\n",
      "0.9953: Biden supported every globalist sellout of Ohio workers for over a half a century, including NAFTA, China's entry into the World Trade Organization, the disaster known as TPP, and the— how about the Paris Climate Accord? [ ] That's another beauty\n",
      "0.9952: Unfortunately, it does come in from China\n",
      "0.9952: For the last 30 years, China—and in all fairness, and other countries\n",
      "0.9950: I said to Sonny Perdue, Secretary of Agriculture, great guy, \"How much have we been targeted for our farmers by China?\" He said, \"Sir, two years ago, $12 billion and last year, 16\n",
      "0.9947: [ ] And weeks ago, we also signed a fantastic new trade agreement with China that will boost New Jersey exports and defend New Jersey jobs\n",
      "0.9947: This is a core of our strategy to protect our people from the horrible China virus\n",
      "0.9945: But Kim and Terry Branstad—who is, right now, your great Ambassador to China\n",
      "0.9943: Now China's done, and I met with the new head of the European Commission, who's terrific\n",
      "\n",
      "Top 10 Neutral Sentences:\n",
      "0.9921: Jen Chen with Shenzhen Media Group of China\n",
      "0.9833: While Biden was vice president, his son Hunter   for a trip to China\n",
      "0.9817: He said: \"China's working very hard\n",
      "0.9814: Biden answered a question about China with  .\n",
      " 6\n",
      "0.9807: Their performance during the opening moments of the China flu origination\n",
      "0.9750: He filed a case against China\n",
      "0.9724: Zhong Shan, Minister of Commerce Governor Yi Gang, The People's Bank of China NING Jizhe, Vice Chairman, National Reform and Development Commission H.E\n",
      "0.9661: group of administration officials went to China\n",
      "0.9659: Apple makes its product in China\n",
      "0.9645: Another question on China\n"
     ]
    }
   ],
   "source": [
    "trump_scores = calculate_average_scores(trump_speech)"
   ]
  },
  {
   "cell_type": "code",
   "execution_count": 78,
   "id": "93cbbb66",
   "metadata": {},
   "outputs": [
    {
     "name": "stdout",
     "output_type": "stream",
     "text": [
      "Average Subjective Score: 0.6091680643858312\n",
      "Average Neutral Score: 0.39083193566408403\n",
      "\n",
      "Top 10 Subjective Sentences:\n",
      "0.9956: Trump suggested that Mark Milley, who is a hell of a soldier, Chairman of the Joint Chiefs, was—Mark Milley should, quote, \"face death\" because he contacted China following January 6 to reassure them that the United States was still stable\n",
      "0.9941: According to my excellent colleagues from Reuters, the administration is, you know, consulting with allies regarding further sanctions against China if China decides to deliver weapons to Russia\n",
      "0.9914: Because Chinese steel companies produce a lot more steel than China needs, it ends up dumping the extra steel into the global markets at unfairly low prices\n",
      "0.9912: The President and Prime Minister then discussed the two Canadian citizens—Michael Kovrig and Michael Spavor—who are unjustly detained by the People's Republic of China\n",
      "0.9911: Because the CCP does not compete fairly, imposing new tariffs is a necessary step towards addressing the unfair imbalance of China's trade relationship with the United States\n",
      "0.9907: This action will combat China's unfair trade practices and support the President's historic investments in American steel and aluminum, semiconductors, electric vehicles, batteries, solar, and other strategic sectors\n",
      "0.9907: Michigan has seen the impacts of China's unfair trade practices on our jobs\n",
      "0.9906: One reason for that is Trump's misguided trade war with China, which led to tariffs on essential medical supplies and reduced their availability in the United States\n",
      "0.9901: The previous administration did not take action to invest in America and failed to follow through on securing the promised Chinese purchases or end to China's unfair practices in its failed Phase One trade agreement with China\n",
      "0.9898: When I met with the President of China—who I'm going to be speaking with tonight—several years ago, he asked me—we were in China—he asked me—he said: Could I define America? And I said, \"Absolutely.\" It's the God's truth\n",
      "\n",
      "Top 10 Neutral Sentences:\n",
      "0.9903: He signed a trade deal with China\n",
      "0.9838: Xi Jinping, President of the People's Republic of China H.E\n",
      "0.9817: And one question on China\n",
      "0.9800: Two questions on China\n",
      "0.9772: Q: A follow-up on China\n",
      "0.9772: Q: A follow-up on China\n",
      "0.9768: Xie Feng, Ambassador of the People's Republic of China to the United States H.E\n",
      "0.9743: Two on China\n",
      "0.9735: Nicholas Burns, Ambassador of the United States to the People's Republic of China T.H\n",
      "0.9716: detainees in China\n"
     ]
    }
   ],
   "source": [
    "biden_scores = calculate_average_scores(biden_speech)"
   ]
  },
  {
   "cell_type": "code",
   "execution_count": 37,
   "id": "236d44f1",
   "metadata": {},
   "outputs": [
    {
     "name": "stdout",
     "output_type": "stream",
     "text": [
      "Average Subjective Score: 0.6647560222964374\n",
      "Average Neutral Score: 0.3352439795358121\n"
     ]
    }
   ],
   "source": [
    "vicepresident_biden_scores = calculate_average_scores(vicepresident_biden_speech)"
   ]
  }
 ],
 "metadata": {
  "kernelspec": {
   "display_name": "Python 3 (ipykernel)",
   "language": "python",
   "name": "python3"
  },
  "language_info": {
   "codemirror_mode": {
    "name": "ipython",
    "version": 3
   },
   "file_extension": ".py",
   "mimetype": "text/x-python",
   "name": "python",
   "nbconvert_exporter": "python",
   "pygments_lexer": "ipython3",
   "version": "3.9.19"
  }
 },
 "nbformat": 4,
 "nbformat_minor": 5
}
