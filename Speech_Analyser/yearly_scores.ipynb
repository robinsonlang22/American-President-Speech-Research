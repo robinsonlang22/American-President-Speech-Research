{
 "cells": [
  {
   "cell_type": "code",
   "execution_count": 4,
   "metadata": {},
   "outputs": [],
   "source": [
    "import os \n",
    "import json\n",
    "from collections import defaultdict\n",
    "from datetime import datetime"
   ]
  },
  {
   "cell_type": "code",
   "execution_count": null,
   "metadata": {},
   "outputs": [],
   "source": [
    "# merge json files\n",
    "def merge_json_files(folder_path, output_file):\n",
    "    json_files = [f for f in os.listdir(folder_path) if f.endswith('.json')]\n",
    "\n",
    "    merged_data = []\n",
    "\n",
    "    for file in json_files:\n",
    "        file_path = os.path.join(folder_path, file)\n",
    "        with open(file_path, 'r', encoding='utf-8') as json_file:\n",
    "            data = json.load(json_file)\n",
    "            merged_data.extend(data)  # 合并所有文件的数据到一个列表中\n",
    "\n",
    "    with open(output_file, 'w', encoding='utf-8') as f:\n",
    "        json.dump(merged_data, f, ensure_ascii=False, indent=4)"
   ]
  },
  {
   "cell_type": "code",
   "execution_count": null,
   "metadata": {},
   "outputs": [],
   "source": [
    "merge_json_files('sentiment_scores_json', 'all_sentiment_score.json')"
   ]
  },
  {
   "cell_type": "code",
   "execution_count": 1,
   "metadata": {},
   "outputs": [],
   "source": [
    "# calculate yearly average\n",
    "def calculate_yearly_average(input_file, output_file):\n",
    "    with open(input_file, 'r', encoding='utf-8') as f:\n",
    "        data = json.load(f)\n",
    "\n",
    "    yearly_scores = defaultdict(list)\n",
    "\n",
    "    for entry in data:\n",
    "        date = datetime.strptime(entry['date'], '%Y-%m-%d')\n",
    "        year = date.strftime('%Y')\n",
    "        yearly_scores[year].append(int(entry['sentiment_score'])) \n",
    "\n",
    "    yearly_averages = {k: round(sum(v) / len(v), 2) for k, v in yearly_scores.items()}\n",
    "\n",
    "    sorted_yearly_averages = dict(sorted(yearly_averages.items()))\n",
    "\n",
    "    with open(output_file, 'w', encoding='utf-8') as f:\n",
    "        json.dump(sorted_yearly_averages, f, ensure_ascii=False, indent=4)"
   ]
  },
  {
   "cell_type": "code",
   "execution_count": 5,
   "metadata": {},
   "outputs": [],
   "source": [
    "calculate_yearly_average('all_sentiment_score.json', 'yearly_average_sentiment.json')\n"
   ]
  },
  {
   "cell_type": "code",
   "execution_count": null,
   "metadata": {},
   "outputs": [],
   "source": [
    "#canada\n",
    "canada_yearly_average = calculate_yearly_average('canada_sentiment_scores.json', 'canada_yearly_average_sentiment.json')"
   ]
  }
 ],
 "metadata": {
  "kernelspec": {
   "display_name": "base",
   "language": "python",
   "name": "python3"
  },
  "language_info": {
   "codemirror_mode": {
    "name": "ipython",
    "version": 3
   },
   "file_extension": ".py",
   "mimetype": "text/x-python",
   "name": "python",
   "nbconvert_exporter": "python",
   "pygments_lexer": "ipython3",
   "version": "3.9.19"
  }
 },
 "nbformat": 4,
 "nbformat_minor": 2
}
