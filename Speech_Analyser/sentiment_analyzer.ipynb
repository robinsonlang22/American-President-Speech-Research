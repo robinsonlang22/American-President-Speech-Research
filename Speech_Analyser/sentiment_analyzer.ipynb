{
 "cells": [
  {
   "cell_type": "code",
   "execution_count": 1,
   "metadata": {},
   "outputs": [],
   "source": [
    "import torch"
   ]
  },
  {
   "cell_type": "code",
   "execution_count": 2,
   "metadata": {},
   "outputs": [],
   "source": [
    "from transformers import pipeline"
   ]
  },
  {
   "cell_type": "code",
   "execution_count": 3,
   "metadata": {},
   "outputs": [],
   "source": [
    "from transformers import AutoTokenizer, AutoModelForSequenceClassification"
   ]
  },
  {
   "cell_type": "code",
   "execution_count": 1,
   "metadata": {},
   "outputs": [],
   "source": [
    "import json\n",
    "import os\n",
    "import numpy as np\n",
    "import pandas as pd\n",
    "import plotly.express as px"
   ]
  },
  {
   "cell_type": "code",
   "execution_count": null,
   "metadata": {},
   "outputs": [],
   "source": [
    "tokenizer = AutoTokenizer.from_pretrained(\"nlptown/bert-base-multilingual-uncased-sentiment\")"
   ]
  },
  {
   "cell_type": "code",
   "execution_count": 6,
   "metadata": {},
   "outputs": [],
   "source": [
    "def process_sentences(json_file_path, max_length=512):\n",
    "    processed_sentences = []\n",
    "    \n",
    "    # read json file\n",
    "    with open(json_file_path, 'r') as file:\n",
    "        sentences_data = json.load(file)\n",
    "    \n",
    "    # iterate each sentence\n",
    "    for entry in sentences_data:\n",
    "        sentence = entry['sentence']\n",
    "        \n",
    "        # tokenize and truncate\n",
    "        tokens = tokenizer(sentence, truncation=True, max_length=512, return_tensors=\"pt\", padding=True)\n",
    "        \n",
    "        # convert to text\n",
    "        truncated_sentence = tokenizer.decode(tokens['input_ids'][0], skip_special_tokens=True)\n",
    "        \n",
    "        # save processed sentence\n",
    "        processed_sentences.append(truncated_sentence)\n",
    "    \n",
    "    return processed_sentences"
   ]
  },
  {
   "cell_type": "code",
   "execution_count": null,
   "metadata": {},
   "outputs": [],
   "source": [
    "classify = pipeline(\n",
    "    task=\"sentiment-analysis\",\n",
    "    model=\"nlptown/bert-base-multilingual-uncased-sentiment\",\n",
    "    top_k=None\n",
    ")"
   ]
  },
  {
   "cell_type": "code",
   "execution_count": 35,
   "metadata": {},
   "outputs": [],
   "source": [
    "# with open('./speech_json/37_nixon_speech.json', 'r') as file:\n",
    "#     nixon_speech = json.load(file)\n",
    "\n",
    "# with open('./speech_json/38_ford_speech.json', 'r') as file:\n",
    "#     ford_speech = json.load(file)\n",
    "\n",
    "# with open('./speech_json/39_carter_speech.json', 'r') as file:\n",
    "#     carter_speech = json.load(file)\n",
    "\n",
    "# with open('./speech_json/40_reagan_speech.json', 'r') as file:\n",
    "#     reagan_speech = json.load(file)\n",
    "\n",
    "# with open('./speech_json/41_herbertbush_speech.json', 'r') as file:\n",
    "#     herbertbush_speech = json.load(file)\n",
    "\n",
    "# with open('./speech_json/42_clinton_speech.json', 'r') as file:\n",
    "#     clinton_speech = json.load(file)\n",
    "\n",
    "# with open('./speech_json/43_walkerbush_speech.json', 'r') as file:\n",
    "#     walkerbush_speech = json.load(file)\n",
    "\n",
    "# with open('./speech_json/44_obama_speech.json', 'r') as file:\n",
    "#     obama_speech = json.load(file)\n",
    "\n",
    "# with open('./speech_json/45_trump_speech.json', 'r') as file:\n",
    "#     trump_speech = json.load(file)\n",
    "\n",
    "# with open('./speech_json/46_biden_speech.json', 'r') as file:\n",
    "#     biden_speech = json.load(file)\n",
    "\n",
    "# with open('./speech_json/47_vicepresident_biden_speech.json', 'r') as file:\n",
    "#     vicepresident_biden_speech = json.load(file)\n",
    "\n"
   ]
  },
  {
   "cell_type": "code",
   "execution_count": 8,
   "metadata": {},
   "outputs": [],
   "source": [
    "with open('./speech_json/deduplicated_canada.json', 'r') as file:\n",
    "    canada_speech = json.load(file)"
   ]
  },
  {
   "cell_type": "code",
   "execution_count": 9,
   "metadata": {},
   "outputs": [],
   "source": [
    "def calculate_scores(speech_file, output_file):\n",
    "    results = []\n",
    "\n",
    "    for entry in speech_file:\n",
    "        sentence = entry['sentence']\n",
    "        date = entry['date']\n",
    "        tokens = tokenizer(sentence, truncation=True, max_length=512, return_tensors=\"pt\", padding=True)\n",
    "        truncated_sentence = tokenizer.decode(tokens['input_ids'][0], skip_special_tokens=True)\n",
    "        result = classify(truncated_sentence)\n",
    "        sentiment_score = result[0][0]['label'].split(' ')[0]\n",
    "\n",
    "        # Collect sentences with their scores and dates\n",
    "        results.append({\n",
    "            \"date\": date,\n",
    "            \"sentiment_score\": sentiment_score,\n",
    "            \"sentence\": sentence\n",
    "        })\n",
    "\n",
    "    # Save results to a JSON file\n",
    "    with open(output_file, 'w') as outfile:\n",
    "        json.dump(results, outfile, indent=4)\n",
    "\n",
    "    return results"
   ]
  },
  {
   "cell_type": "code",
   "execution_count": 39,
   "metadata": {},
   "outputs": [],
   "source": [
    "# nixon_results = calculate_scores(nixon_speech, 'nixon_sentiment_scores.json')\n",
    "# ford_results = calculate_scores(ford_speech, 'ford_sentiment_scores.json')\n",
    "# carter_results = calculate_scores(carter_speech, 'carter_sentiment_scores.json')\n",
    "# reagan_results = calculate_scores(reagan_speech, 'reagan_sentiment_scores.json')\n",
    "# herbertbush_results = calculate_scores(herbertbush_speech, 'herbertbush_sentiment_scores.json')\n",
    "# clinton_results = calculate_scores(clinton_speech, 'clinton_sentiment_scores.json')\n",
    "# walkerbush_results = calculate_scores(walkerbush_speech, 'walkerbush_sentiment_scores.json')\n",
    "# obama_results = calculate_scores(obama_speech, 'obama_sentiment_scores.json')\n",
    "# trump_results = calculate_scores(trump_speech, 'trump_sentiment_scores.json')\n",
    "# biden_results = calculate_scores(biden_speech, 'biden_sentiment_scores.json')\n",
    "# vicepresident_biden_results = calculate_scores(vicepresident_biden_speech, 'vicepresident_biden_sentiment_scores.json')\n"
   ]
  },
  {
   "cell_type": "code",
   "execution_count": null,
   "metadata": {},
   "outputs": [],
   "source": [
    "canada_sentiment_scores = calculate_scores(canada_speech, 'canada_sentiment_scores.json')"
   ]
  },
  {
   "cell_type": "code",
   "execution_count": 40,
   "metadata": {},
   "outputs": [],
   "source": [
    "# with open('./sentiment_scores_json/nixon_sentiment_scores.json', 'r') as file:\n",
    "#     nixon_sentiment_scores = json.load(file)\n",
    "\n",
    "# with open('./sentiment_scores_json/ford_sentiment_scores.json', 'r') as file:\n",
    "#     ford_sentiment_scores = json.load(file)\n",
    "\n",
    "# with open('./sentiment_scores_json/carter_sentiment_scores.json', 'r') as file:\n",
    "#     carter_sentiment_scores = json.load(file)\n",
    "\n",
    "# with open('./sentiment_scores_json/reagan_sentiment_scores.json', 'r') as file:\n",
    "#     reagan_sentiment_scores = json.load(file)\n",
    "\n",
    "# with open('./sentiment_scores_json/herbertbush_sentiment_scores.json', 'r') as file:\n",
    "#     herbertbush_sentiment_scores = json.load(file)\n",
    "\n",
    "# with open('./sentiment_scores_json/clinton_sentiment_scores.json', 'r') as file:\n",
    "#     clinton_sentiment_scores = json.load(file)\n",
    "\n",
    "# with open('./sentiment_scores_json/walkerbush_sentiment_scores.json', 'r') as file:\n",
    "#     walkerbush_sentiment_scores = json.load(file)\n",
    "\n",
    "# with open('./sentiment_scores_json/obama_sentiment_scores.json', 'r') as file:\n",
    "#     obama_sentiment_scores = json.load(file)\n",
    "\n",
    "# with open('./sentiment_scores_json/trump_sentiment_scores.json', 'r') as file:\n",
    "#     trump_sentiment_scores = json.load(file)\n",
    "\n",
    "# with open('./sentiment_scores_json/biden_sentiment_scores.json', 'r') as file:\n",
    "#     biden_sentiment_scores = json.load(file)\n",
    "\n",
    "# with open('./sentiment_scores_json/vicepresident_biden_sentiment_scores.json', 'r') as file:\n",
    "#     vicepresident_biden_sentiment_scores = json.load(file)\n"
   ]
  },
  {
   "cell_type": "code",
   "execution_count": 11,
   "metadata": {},
   "outputs": [],
   "source": [
    "def sentiment_statistics(scores, presidentname):\n",
    "\n",
    "    sentiment_scores = [int(score['sentiment_score']) for score in scores]\n",
    "\n",
    "    if not sentiment_scores:\n",
    "        return None, None, None\n",
    "    \n",
    "    average_sentiment_score = np.mean(sentiment_scores)\n",
    "    median_sentiment_score = np.median(sentiment_scores)\n",
    "    std_dev_sentiment_score = np.std(sentiment_scores)\n",
    "\n",
    "    print(f\"president_name: {presidentname}\")\n",
    "    print(f\"average_sentiment_score: {average_sentiment_score:.3f}\")\n",
    "    print(f\"median_sentiment_score: {median_sentiment_score:.3f}\")\n",
    "    print(f\"std_dev_sentiment_score: {std_dev_sentiment_score:.3f}\")\n",
    "\n",
    "    results = {\n",
    "        \"president_name\": presidentname,\n",
    "        \"average_sentiment_score\": average_sentiment_score,\n",
    "        \"median_sentiment_score\": median_sentiment_score,\n",
    "        \"std_dev_sentiment_score\": std_dev_sentiment_score,\n",
    "\n",
    "    }\n",
    "\n",
    "    # Save results to a JSON file\n",
    "    with open('sentiment_statistics.json', 'a') as outfile:\n",
    "        json.dump(results, outfile, indent=4)\n",
    "    \n",
    "    return average_sentiment_score, median_sentiment_score, std_dev_sentiment_score\n",
    "\n"
   ]
  },
  {
   "cell_type": "code",
   "execution_count": 60,
   "metadata": {},
   "outputs": [],
   "source": [
    "# nixon_sentiment_statistics = sentiment_statistics(nixon_sentiment_scores, \"nixon\")\n",
    "# ford_sentiment_statistics = sentiment_statistics(ford_sentiment_scores, \"ford\")\n",
    "# carter_sentiment_statistics = sentiment_statistics(carter_sentiment_scores, \"carter\")\n",
    "# reagan_sentiment_statistics = sentiment_statistics(reagan_sentiment_scores, \"reagan\")\n",
    "# herbertbush_sentiment_statistics = sentiment_statistics(herbertbush_sentiment_scores, \"herbertbush\")\n",
    "# clinton_sentiment_statistics = sentiment_statistics(clinton_sentiment_scores, \"clinton\")\n",
    "# walkerbush_sentiment_statistics = sentiment_statistics(walkerbush_sentiment_scores, \"walkerbush\")\n",
    "# obama_sentiment_statistics = sentiment_statistics(obama_sentiment_scores, \"obama\")\n",
    "# trump_sentiment_statistics = sentiment_statistics(trump_sentiment_scores, \"trump\")\n",
    "#biden_sentiment_statistics = sentiment_statistics(biden_sentiment_scores, \"biden\")"
   ]
  },
  {
   "cell_type": "code",
   "execution_count": 3,
   "metadata": {},
   "outputs": [
    {
     "data": {
      "application/vnd.plotly.v1+json": {
       "config": {
        "plotlyServerURL": "https://plot.ly"
       },
       "data": [
        {
         "hovertemplate": "Sentiment Type=Average Sentiment Score<br>President=%{x}<br>Score=%{y}<extra></extra>",
         "legendgroup": "Average Sentiment Score",
         "line": {
          "color": "#636efa",
          "dash": "solid"
         },
         "marker": {
          "symbol": "circle"
         },
         "mode": "lines+markers",
         "name": "Average Sentiment Score",
         "orientation": "v",
         "showlegend": true,
         "type": "scatter",
         "x": [
          "nixon",
          "ford",
          "carter",
          "reagan",
          "herbertbush",
          "clinton",
          "walkerbush",
          "obama",
          "trump",
          "biden"
         ],
         "xaxis": "x",
         "y": [
          3.200251889168766,
          3.2966507177033493,
          3.4297235023041477,
          3.7226753670473083,
          3.1586368977673325,
          3.0001667778519012,
          3.088276246170983,
          3.2649719948298146,
          2.6631905648665426,
          2.850372003306696
         ],
         "yaxis": "y"
        },
        {
         "hovertemplate": "Sentiment Type=Median Sentiment Score<br>President=%{x}<br>Score=%{y}<extra></extra>",
         "legendgroup": "Median Sentiment Score",
         "line": {
          "color": "#EF553B",
          "dash": "solid"
         },
         "marker": {
          "symbol": "circle"
         },
         "mode": "lines+markers",
         "name": "Median Sentiment Score",
         "orientation": "v",
         "showlegend": true,
         "type": "scatter",
         "x": [
          "nixon",
          "ford",
          "carter",
          "reagan",
          "herbertbush",
          "clinton",
          "walkerbush",
          "obama",
          "trump",
          "biden"
         ],
         "xaxis": "x",
         "y": [
          3,
          4,
          4,
          4,
          3,
          3,
          3,
          4,
          2,
          3
         ],
         "yaxis": "y"
        }
       ],
       "layout": {
        "height": 600,
        "legend": {
         "title": {
          "text": "Sentiment Type"
         },
         "tracegroupgap": 0
        },
        "template": {
         "data": {
          "bar": [
           {
            "error_x": {
             "color": "#2a3f5f"
            },
            "error_y": {
             "color": "#2a3f5f"
            },
            "marker": {
             "line": {
              "color": "#E5ECF6",
              "width": 0.5
             },
             "pattern": {
              "fillmode": "overlay",
              "size": 10,
              "solidity": 0.2
             }
            },
            "type": "bar"
           }
          ],
          "barpolar": [
           {
            "marker": {
             "line": {
              "color": "#E5ECF6",
              "width": 0.5
             },
             "pattern": {
              "fillmode": "overlay",
              "size": 10,
              "solidity": 0.2
             }
            },
            "type": "barpolar"
           }
          ],
          "carpet": [
           {
            "aaxis": {
             "endlinecolor": "#2a3f5f",
             "gridcolor": "white",
             "linecolor": "white",
             "minorgridcolor": "white",
             "startlinecolor": "#2a3f5f"
            },
            "baxis": {
             "endlinecolor": "#2a3f5f",
             "gridcolor": "white",
             "linecolor": "white",
             "minorgridcolor": "white",
             "startlinecolor": "#2a3f5f"
            },
            "type": "carpet"
           }
          ],
          "choropleth": [
           {
            "colorbar": {
             "outlinewidth": 0,
             "ticks": ""
            },
            "type": "choropleth"
           }
          ],
          "contour": [
           {
            "colorbar": {
             "outlinewidth": 0,
             "ticks": ""
            },
            "colorscale": [
             [
              0,
              "#0d0887"
             ],
             [
              0.1111111111111111,
              "#46039f"
             ],
             [
              0.2222222222222222,
              "#7201a8"
             ],
             [
              0.3333333333333333,
              "#9c179e"
             ],
             [
              0.4444444444444444,
              "#bd3786"
             ],
             [
              0.5555555555555556,
              "#d8576b"
             ],
             [
              0.6666666666666666,
              "#ed7953"
             ],
             [
              0.7777777777777778,
              "#fb9f3a"
             ],
             [
              0.8888888888888888,
              "#fdca26"
             ],
             [
              1,
              "#f0f921"
             ]
            ],
            "type": "contour"
           }
          ],
          "contourcarpet": [
           {
            "colorbar": {
             "outlinewidth": 0,
             "ticks": ""
            },
            "type": "contourcarpet"
           }
          ],
          "heatmap": [
           {
            "colorbar": {
             "outlinewidth": 0,
             "ticks": ""
            },
            "colorscale": [
             [
              0,
              "#0d0887"
             ],
             [
              0.1111111111111111,
              "#46039f"
             ],
             [
              0.2222222222222222,
              "#7201a8"
             ],
             [
              0.3333333333333333,
              "#9c179e"
             ],
             [
              0.4444444444444444,
              "#bd3786"
             ],
             [
              0.5555555555555556,
              "#d8576b"
             ],
             [
              0.6666666666666666,
              "#ed7953"
             ],
             [
              0.7777777777777778,
              "#fb9f3a"
             ],
             [
              0.8888888888888888,
              "#fdca26"
             ],
             [
              1,
              "#f0f921"
             ]
            ],
            "type": "heatmap"
           }
          ],
          "heatmapgl": [
           {
            "colorbar": {
             "outlinewidth": 0,
             "ticks": ""
            },
            "colorscale": [
             [
              0,
              "#0d0887"
             ],
             [
              0.1111111111111111,
              "#46039f"
             ],
             [
              0.2222222222222222,
              "#7201a8"
             ],
             [
              0.3333333333333333,
              "#9c179e"
             ],
             [
              0.4444444444444444,
              "#bd3786"
             ],
             [
              0.5555555555555556,
              "#d8576b"
             ],
             [
              0.6666666666666666,
              "#ed7953"
             ],
             [
              0.7777777777777778,
              "#fb9f3a"
             ],
             [
              0.8888888888888888,
              "#fdca26"
             ],
             [
              1,
              "#f0f921"
             ]
            ],
            "type": "heatmapgl"
           }
          ],
          "histogram": [
           {
            "marker": {
             "pattern": {
              "fillmode": "overlay",
              "size": 10,
              "solidity": 0.2
             }
            },
            "type": "histogram"
           }
          ],
          "histogram2d": [
           {
            "colorbar": {
             "outlinewidth": 0,
             "ticks": ""
            },
            "colorscale": [
             [
              0,
              "#0d0887"
             ],
             [
              0.1111111111111111,
              "#46039f"
             ],
             [
              0.2222222222222222,
              "#7201a8"
             ],
             [
              0.3333333333333333,
              "#9c179e"
             ],
             [
              0.4444444444444444,
              "#bd3786"
             ],
             [
              0.5555555555555556,
              "#d8576b"
             ],
             [
              0.6666666666666666,
              "#ed7953"
             ],
             [
              0.7777777777777778,
              "#fb9f3a"
             ],
             [
              0.8888888888888888,
              "#fdca26"
             ],
             [
              1,
              "#f0f921"
             ]
            ],
            "type": "histogram2d"
           }
          ],
          "histogram2dcontour": [
           {
            "colorbar": {
             "outlinewidth": 0,
             "ticks": ""
            },
            "colorscale": [
             [
              0,
              "#0d0887"
             ],
             [
              0.1111111111111111,
              "#46039f"
             ],
             [
              0.2222222222222222,
              "#7201a8"
             ],
             [
              0.3333333333333333,
              "#9c179e"
             ],
             [
              0.4444444444444444,
              "#bd3786"
             ],
             [
              0.5555555555555556,
              "#d8576b"
             ],
             [
              0.6666666666666666,
              "#ed7953"
             ],
             [
              0.7777777777777778,
              "#fb9f3a"
             ],
             [
              0.8888888888888888,
              "#fdca26"
             ],
             [
              1,
              "#f0f921"
             ]
            ],
            "type": "histogram2dcontour"
           }
          ],
          "mesh3d": [
           {
            "colorbar": {
             "outlinewidth": 0,
             "ticks": ""
            },
            "type": "mesh3d"
           }
          ],
          "parcoords": [
           {
            "line": {
             "colorbar": {
              "outlinewidth": 0,
              "ticks": ""
             }
            },
            "type": "parcoords"
           }
          ],
          "pie": [
           {
            "automargin": true,
            "type": "pie"
           }
          ],
          "scatter": [
           {
            "fillpattern": {
             "fillmode": "overlay",
             "size": 10,
             "solidity": 0.2
            },
            "type": "scatter"
           }
          ],
          "scatter3d": [
           {
            "line": {
             "colorbar": {
              "outlinewidth": 0,
              "ticks": ""
             }
            },
            "marker": {
             "colorbar": {
              "outlinewidth": 0,
              "ticks": ""
             }
            },
            "type": "scatter3d"
           }
          ],
          "scattercarpet": [
           {
            "marker": {
             "colorbar": {
              "outlinewidth": 0,
              "ticks": ""
             }
            },
            "type": "scattercarpet"
           }
          ],
          "scattergeo": [
           {
            "marker": {
             "colorbar": {
              "outlinewidth": 0,
              "ticks": ""
             }
            },
            "type": "scattergeo"
           }
          ],
          "scattergl": [
           {
            "marker": {
             "colorbar": {
              "outlinewidth": 0,
              "ticks": ""
             }
            },
            "type": "scattergl"
           }
          ],
          "scattermapbox": [
           {
            "marker": {
             "colorbar": {
              "outlinewidth": 0,
              "ticks": ""
             }
            },
            "type": "scattermapbox"
           }
          ],
          "scatterpolar": [
           {
            "marker": {
             "colorbar": {
              "outlinewidth": 0,
              "ticks": ""
             }
            },
            "type": "scatterpolar"
           }
          ],
          "scatterpolargl": [
           {
            "marker": {
             "colorbar": {
              "outlinewidth": 0,
              "ticks": ""
             }
            },
            "type": "scatterpolargl"
           }
          ],
          "scatterternary": [
           {
            "marker": {
             "colorbar": {
              "outlinewidth": 0,
              "ticks": ""
             }
            },
            "type": "scatterternary"
           }
          ],
          "surface": [
           {
            "colorbar": {
             "outlinewidth": 0,
             "ticks": ""
            },
            "colorscale": [
             [
              0,
              "#0d0887"
             ],
             [
              0.1111111111111111,
              "#46039f"
             ],
             [
              0.2222222222222222,
              "#7201a8"
             ],
             [
              0.3333333333333333,
              "#9c179e"
             ],
             [
              0.4444444444444444,
              "#bd3786"
             ],
             [
              0.5555555555555556,
              "#d8576b"
             ],
             [
              0.6666666666666666,
              "#ed7953"
             ],
             [
              0.7777777777777778,
              "#fb9f3a"
             ],
             [
              0.8888888888888888,
              "#fdca26"
             ],
             [
              1,
              "#f0f921"
             ]
            ],
            "type": "surface"
           }
          ],
          "table": [
           {
            "cells": {
             "fill": {
              "color": "#EBF0F8"
             },
             "line": {
              "color": "white"
             }
            },
            "header": {
             "fill": {
              "color": "#C8D4E3"
             },
             "line": {
              "color": "white"
             }
            },
            "type": "table"
           }
          ]
         },
         "layout": {
          "annotationdefaults": {
           "arrowcolor": "#2a3f5f",
           "arrowhead": 0,
           "arrowwidth": 1
          },
          "autotypenumbers": "strict",
          "coloraxis": {
           "colorbar": {
            "outlinewidth": 0,
            "ticks": ""
           }
          },
          "colorscale": {
           "diverging": [
            [
             0,
             "#8e0152"
            ],
            [
             0.1,
             "#c51b7d"
            ],
            [
             0.2,
             "#de77ae"
            ],
            [
             0.3,
             "#f1b6da"
            ],
            [
             0.4,
             "#fde0ef"
            ],
            [
             0.5,
             "#f7f7f7"
            ],
            [
             0.6,
             "#e6f5d0"
            ],
            [
             0.7,
             "#b8e186"
            ],
            [
             0.8,
             "#7fbc41"
            ],
            [
             0.9,
             "#4d9221"
            ],
            [
             1,
             "#276419"
            ]
           ],
           "sequential": [
            [
             0,
             "#0d0887"
            ],
            [
             0.1111111111111111,
             "#46039f"
            ],
            [
             0.2222222222222222,
             "#7201a8"
            ],
            [
             0.3333333333333333,
             "#9c179e"
            ],
            [
             0.4444444444444444,
             "#bd3786"
            ],
            [
             0.5555555555555556,
             "#d8576b"
            ],
            [
             0.6666666666666666,
             "#ed7953"
            ],
            [
             0.7777777777777778,
             "#fb9f3a"
            ],
            [
             0.8888888888888888,
             "#fdca26"
            ],
            [
             1,
             "#f0f921"
            ]
           ],
           "sequentialminus": [
            [
             0,
             "#0d0887"
            ],
            [
             0.1111111111111111,
             "#46039f"
            ],
            [
             0.2222222222222222,
             "#7201a8"
            ],
            [
             0.3333333333333333,
             "#9c179e"
            ],
            [
             0.4444444444444444,
             "#bd3786"
            ],
            [
             0.5555555555555556,
             "#d8576b"
            ],
            [
             0.6666666666666666,
             "#ed7953"
            ],
            [
             0.7777777777777778,
             "#fb9f3a"
            ],
            [
             0.8888888888888888,
             "#fdca26"
            ],
            [
             1,
             "#f0f921"
            ]
           ]
          },
          "colorway": [
           "#636efa",
           "#EF553B",
           "#00cc96",
           "#ab63fa",
           "#FFA15A",
           "#19d3f3",
           "#FF6692",
           "#B6E880",
           "#FF97FF",
           "#FECB52"
          ],
          "font": {
           "color": "#2a3f5f"
          },
          "geo": {
           "bgcolor": "white",
           "lakecolor": "white",
           "landcolor": "#E5ECF6",
           "showlakes": true,
           "showland": true,
           "subunitcolor": "white"
          },
          "hoverlabel": {
           "align": "left"
          },
          "hovermode": "closest",
          "mapbox": {
           "style": "light"
          },
          "paper_bgcolor": "white",
          "plot_bgcolor": "#E5ECF6",
          "polar": {
           "angularaxis": {
            "gridcolor": "white",
            "linecolor": "white",
            "ticks": ""
           },
           "bgcolor": "#E5ECF6",
           "radialaxis": {
            "gridcolor": "white",
            "linecolor": "white",
            "ticks": ""
           }
          },
          "scene": {
           "xaxis": {
            "backgroundcolor": "#E5ECF6",
            "gridcolor": "white",
            "gridwidth": 2,
            "linecolor": "white",
            "showbackground": true,
            "ticks": "",
            "zerolinecolor": "white"
           },
           "yaxis": {
            "backgroundcolor": "#E5ECF6",
            "gridcolor": "white",
            "gridwidth": 2,
            "linecolor": "white",
            "showbackground": true,
            "ticks": "",
            "zerolinecolor": "white"
           },
           "zaxis": {
            "backgroundcolor": "#E5ECF6",
            "gridcolor": "white",
            "gridwidth": 2,
            "linecolor": "white",
            "showbackground": true,
            "ticks": "",
            "zerolinecolor": "white"
           }
          },
          "shapedefaults": {
           "line": {
            "color": "#2a3f5f"
           }
          },
          "ternary": {
           "aaxis": {
            "gridcolor": "white",
            "linecolor": "white",
            "ticks": ""
           },
           "baxis": {
            "gridcolor": "white",
            "linecolor": "white",
            "ticks": ""
           },
           "bgcolor": "#E5ECF6",
           "caxis": {
            "gridcolor": "white",
            "linecolor": "white",
            "ticks": ""
           }
          },
          "title": {
           "x": 0.05
          },
          "xaxis": {
           "automargin": true,
           "gridcolor": "white",
           "linecolor": "white",
           "ticks": "",
           "title": {
            "standoff": 15
           },
           "zerolinecolor": "white",
           "zerolinewidth": 2
          },
          "yaxis": {
           "automargin": true,
           "gridcolor": "white",
           "linecolor": "white",
           "ticks": "",
           "title": {
            "standoff": 15
           },
           "zerolinecolor": "white",
           "zerolinewidth": 2
          }
         }
        },
        "title": {
         "text": "Average and Median Sentiment Scores per President"
        },
        "width": 1000,
        "xaxis": {
         "anchor": "y",
         "domain": [
          0,
          1
         ],
         "tickangle": 45,
         "title": {
          "text": "President"
         }
        },
        "yaxis": {
         "anchor": "x",
         "domain": [
          0,
          1
         ],
         "title": {
          "text": "Score"
         }
        }
       }
      }
     },
     "metadata": {},
     "output_type": "display_data"
    }
   ],
   "source": [
    "import plotly.express as px\n",
    "\n",
    "with open('./sentiment_statistics.json', 'r') as file:\n",
    "    sentiment_statistics = json.load(file)\n",
    "\n",
    "\n",
    "presidents = [entry['president_name'] for entry in sentiment_statistics]\n",
    "average_sentiment_scores = [entry['average_sentiment_score'] for entry in sentiment_statistics]\n",
    "median_sentiment_scores = [entry['median_sentiment_score'] for entry in sentiment_statistics]\n",
    "    \n",
    "df = pd.DataFrame({\n",
    "    'President': presidents,\n",
    "    'Average Sentiment Score': average_sentiment_scores,\n",
    "    'Median Sentiment Score': median_sentiment_scores\n",
    "})\n",
    "\n",
    "df_melted = df.melt(id_vars='President', var_name='Sentiment Type', value_name='Score')\n",
    "\n",
    "fig = px.line(df_melted, \n",
    "              x='President', \n",
    "              y='Score', \n",
    "              color='Sentiment Type', \n",
    "              markers=True, \n",
    "              title='Average and Median Sentiment Scores per President')\n",
    "\n",
    "fig.update_layout(xaxis_title='President', yaxis_title='Score', width=1000, height=600)\n",
    "\n",
    "fig.update_xaxes(tickangle=45)\n",
    "\n",
    "fig.show()"
   ]
  }
 ],
 "metadata": {
  "kernelspec": {
   "display_name": "base",
   "language": "python",
   "name": "python3"
  },
  "language_info": {
   "codemirror_mode": {
    "name": "ipython",
    "version": 3
   },
   "file_extension": ".py",
   "mimetype": "text/x-python",
   "name": "python",
   "nbconvert_exporter": "python",
   "pygments_lexer": "ipython3",
   "version": "3.9.19"
  }
 },
 "nbformat": 4,
 "nbformat_minor": 2
}
