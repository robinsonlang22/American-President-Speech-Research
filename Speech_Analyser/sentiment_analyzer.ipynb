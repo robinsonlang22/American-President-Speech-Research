{
 "cells": [
  {
   "cell_type": "code",
   "execution_count": 1,
   "metadata": {},
   "outputs": [],
   "source": [
    "import torch"
   ]
  },
  {
   "cell_type": "code",
   "execution_count": 2,
   "metadata": {},
   "outputs": [],
   "source": [
    "from transformers import pipeline"
   ]
  },
  {
   "cell_type": "code",
   "execution_count": 10,
   "metadata": {},
   "outputs": [
    {
     "name": "stderr",
     "output_type": "stream",
     "text": [
      "c:\\anaconda\\lib\\site-packages\\transformers\\tokenization_utils_base.py:1601: FutureWarning: `clean_up_tokenization_spaces` was not set. It will be set to `True` by default. This behavior will be depracted in transformers v4.45, and will be then set to `False` by default. For more details check this issue: https://github.com/huggingface/transformers/issues/31884\n",
      "  warnings.warn(\n"
     ]
    }
   ],
   "source": [
    "classify = pipeline(\n",
    "    task=\"sentiment-analysis\",\n",
    "    model=\"nlptown/bert-base-multilingual-uncased-sentiment\",\n",
    "    top_k=None\n",
    ")"
   ]
  },
  {
   "cell_type": "code",
   "execution_count": 11,
   "metadata": {},
   "outputs": [],
   "source": [
    "text = \"All around the rim of China the nations of non-Communist Asia are building a new prosperity and developing a new cohesiveness, which together suggest that they should be able to play far more assertive roles in their own defense.\\n The Soviet drive for strategic supremacy — which the Soviets already have very nearly achieved, while the United States has passively watched — is deeply troubling and seriously threatening\""
   ]
  },
  {
   "cell_type": "code",
   "execution_count": 14,
   "metadata": {},
   "outputs": [],
   "source": [
    "text2 = \"Since China joined the WTO, Americans have witnessed the closure of more than 50,000 factories and the loss of tens of millions of jobs\""
   ]
  },
  {
   "cell_type": "code",
   "execution_count": 12,
   "metadata": {},
   "outputs": [
    {
     "name": "stdout",
     "output_type": "stream",
     "text": [
      "[[{'label': '4 stars', 'score': 0.34373730421066284}, {'label': '5 stars', 'score': 0.2400761842727661}, {'label': '3 stars', 'score': 0.17142046988010406}, {'label': '2 stars', 'score': 0.1672779768705368}, {'label': '1 star', 'score': 0.07748813927173615}]]\n"
     ]
    }
   ],
   "source": [
    "scores = classify(text)\n",
    "print(scores)"
   ]
  },
  {
   "cell_type": "code",
   "execution_count": 15,
   "metadata": {},
   "outputs": [
    {
     "name": "stdout",
     "output_type": "stream",
     "text": [
      "[[{'label': '1 star', 'score': 0.5729751586914062}, {'label': '2 stars', 'score': 0.20713378489017487}, {'label': '5 stars', 'score': 0.09951856732368469}, {'label': '3 stars', 'score': 0.06824341416358948}, {'label': '4 stars', 'score': 0.05212901905179024}]]\n"
     ]
    }
   ],
   "source": [
    "scores2 = classify(text2)\n",
    "print(scores2[0]['label'])\n",
    "\n"
   ]
  },
  {
   "cell_type": "code",
   "execution_count": 20,
   "metadata": {},
   "outputs": [
    {
     "name": "stdout",
     "output_type": "stream",
     "text": [
      "4\n"
     ]
    }
   ],
   "source": [
    "print(scores[0][0]['label'].split(' ')[0])\n"
   ]
  }
 ],
 "metadata": {
  "kernelspec": {
   "display_name": "base",
   "language": "python",
   "name": "python3"
  },
  "language_info": {
   "codemirror_mode": {
    "name": "ipython",
    "version": 3
   },
   "file_extension": ".py",
   "mimetype": "text/x-python",
   "name": "python",
   "nbconvert_exporter": "python",
   "pygments_lexer": "ipython3",
   "version": "3.9.19"
  }
 },
 "nbformat": 4,
 "nbformat_minor": 2
}
